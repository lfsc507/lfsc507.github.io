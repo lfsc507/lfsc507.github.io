{
 "cells": [
  {
   "cell_type": "markdown",
   "metadata": {},
   "source": [
    "# LFSC 507 / BCMB 420 Programming for Statistical and Graphical Analysis of Biological Data\n",
    "\n"
   ]
  },
  {
   "cell_type": "markdown",
   "metadata": {},
   "source": [
    "**Time:**&emsp;&emsp;&emsp;&emsp;&emsp;&emsp;&nbsp;<s>Monday and Wednesday, 1:25 pm - 3:20 pm (Lecture + Lab)</s> Online. Asynchronous. See office hours <br>\n",
    "**Location:**&emsp;&emsp;&emsp;&emsp;&nbsp;&thinsp;306 Mossman<br>\n",
    "**Instructor:**&emsp;&emsp;&emsp;&nbsp;&nbsp;&nbsp;&thinsp;Tian Hong<br>\n",
    "**Office:**&emsp;&emsp;&emsp;&emsp;&emsp;&nbsp;&nbsp;&thinsp;304 Mossman<br>\n",
    "**Instructor e-mail:**&emsp;hongtian@utk.edu<br>\n",
    "**Instructor Zoom ID:**&emsp;https://tennessee.zoom.us/j/2232090757<br>\n",
    "**Office hour:**&emsp;&emsp;&emsp;&nbsp;W Th 3:45pm-4:45pm<br><br>\n",
    "**TA:**&emsp;&emsp;&emsp;&emsp;&emsp;&emsp;&emsp;&nbsp;Priyojit Das<br>\n",
    "**e-mail:**&emsp;&emsp;&emsp;&emsp;&emsp;&nbsp; pdas8@vols.utk.edu   &nbsp;<br>\n",
    "**Office hour:**&emsp;&emsp;&emsp; W Th 2:30pm-3:30pm <br>\n",
    "**TA Zoom ID:**&emsp;&emsp;&emsp;https://tennessee.zoom.us/j/8251318218<br>\n",
    "**Location:**&emsp;&emsp;&emsp;&emsp; 420D Mossman<br>"
   ]
  },
  {
   "cell_type": "markdown",
   "metadata": {},
   "source": [
    "#### Course description:\n",
    "\n",
    "This is a hands-on introductory programming course with the emphasis on analyzing and visualizing biological data. The course will cover basic programming concepts including core data types, functions, flow control, modules, classes and interactions with files. It will also introduce popular libraries for numerical computing, data analysis, machine learning and scientific plotting. Toy examples in areas of structural biology, cell imaging, transcriptomics, genomics and systems biology will be used. Students are encouraged to bring their own data analysis/modeling projects to the course and work on them as a part of the graded component. Upon completing the course, students will be able to use programming tools to perform data analysis, to make publication quality plots, and to learn advanced computational methods with the help of coding. Python will be used as the primary programming language of the course."
   ]
  },
  {
   "cell_type": "markdown",
   "metadata": {},
   "source": [
    "#### Materials and course website:\n",
    "\n",
    "All materials, including announcements, notes, instructions, code and data files, will be available at https://bioinfo.tk"
   ]
  },
  {
   "cell_type": "markdown",
   "metadata": {},
   "source": [
    "#### Computing device:\n",
    "\n",
    "All assignments can be finished via remote access to the course server, so students may choose to use any UT or personal computers. Depending the selected projects, students may prefer to use their personal laptops. Instructions for software installation will be provided in the course."
   ]
  },
  {
   "cell_type": "markdown",
   "metadata": {},
   "source": [
    "#### Grading:\n",
    "\n",
    "**Grade distribution:** 20% Participation, 40% Homework assignment and 40% Project.\n",
    "\n",
    "\n",
    "<s>Attendance is required for all lectures and lab sessions.</s> Students are expected to engage in discussions (online) and participate in course surveys. The discussion at the end of each unit is worth 2% of the grade. The mid-term and final surveys are each worth 2%.\n",
    "\n",
    "\n",
    "Assignments are in the format of coding exercises due weekly. Completing these exercises is essential for understanding the subsequent lectures. No late assignments will be accepted.\n",
    "\n",
    "\n",
    "A data analysis or modeling and simulation project needs to be proposed and finished by each student. The project can be a comprehensive pipeline to analyze complex biological datasets and obtain scientific conclusions. Alternatively, it can be a package to model and simulate a particular biological system. Students are encouraged to use their own datasets (e.g. collected for their own research interests or obtained from their current or previous labs) for the project. The project is evaluated based on a written research plan (10% of the project grade) and a final software package (BCMB 420: 90%, LFSC 507: 50%). For students taking LFSC 507, a written final report is required (40%). The report summarizes the scientific and/or technical contributions of the project to a research field.\n",
    "\n",
    "The final grade for each student will be on an A-F scale:<br>\n",
    "```\n",
    "A :\t90 – 100\n",
    "A-:\t87-89\n",
    "B+:\t84-86\n",
    "B :\t80 – 83\n",
    "B-:\t76-79\n",
    "C+:\t71-75\n",
    "C :\t65 – 70\n",
    "D :\t50 – 64\n",
    "F :\t0 – 49\n",
    "```"
   ]
  },
  {
   "cell_type": "markdown",
   "metadata": {},
   "source": [
    "#### Office hours\n",
    "\n",
    "Please respect the office hour times given for the instructor. If these times are inconvenient, then make an appointment. We highly recommend that you keep up with assignments and practice problems and come to instructors or TA with questions throughout the semester instead of right before assignments are due.\n",
    "\n",
    "#### Virtual office hours\n",
    "\n",
    "For the online course, regular virtual office hours are open to all students, unless appointments are made. Students are encouraged to post questions to discussion board, or e-mail the questions to instructors before coming to office hours. Before each office hour session, instructors may announce the questions to be discussed for that session, and students can decide whether they will attend the session.\n"
   ]
  },
  {
   "cell_type": "markdown",
   "metadata": {},
   "source": [
    "#### Academic integrity \n",
    "\n",
    "**Honor Statement:** _An essential feature of the University of Tennessee, Knoxville, is a commitment to maintaining an atmosphere of intellectual integrity and academic honesty. As a student of the university, I pledge that I will neither knowingly give nor receive any inappropriate assistance in academic work, thus affirming my own personal commitment to honor and integrity._<br>\n",
    "\n",
    "**Academic honesty practices:** Much of this course will be done with the intention to openly help your classmates. Students are expected to take advantage of this group learning approach. However, any blatant duplication of code, figures, plots, etc. will be considered cheating and/or plagiarism and you will receive a zero on the assignment."
   ]
  },
  {
   "cell_type": "markdown",
   "metadata": {},
   "source": [
    "#### Students with Disabilities Policy\n",
    "\n",
    "Any student who feels he or she may need an accommodation based on the impact of a disability should contact the Office of Disability Services (ODS) at 866-974-6087 in 2227 Dunford Hall to document their eligibility for services. ODS will work with students and faculty to coordinate reasonable accommodations for students with documented disabilities. "
   ]
  },
  {
   "cell_type": "markdown",
   "metadata": {},
   "source": [
    "<br>\n",
    "\n",
    "***Tentative Schedule***\n",
    "\n",
    "|Week\t|Day|\tLesson|\tDate|\tTopic|\tNote|\n",
    "|------|------|------|------|------|------|\n",
    "|0|W|1|8/19|Introduction|Project: Topic selection starts|\n",
    "|1|M|2|8/24|Variables, strings and numbers|\n",
    "|1|W|3|8/26|Lists, tuples and sets|\n",
    "|2|M|4|8/31|Loops and conditional statement|\n",
    "|2|W|5|9/2|Working with files|\n",
    "|3|M|-|9/7|----|NOT a holiday in 2020. Independent Study|\n",
    "|3|W|6|9/9|Functions 1|Project: Data analysis starts\n",
    "|4|M|7|9/14|Functions 2\n",
    "|4|W|8|9/16|Working with libraries\n",
    "|5|M|9|9/21|Dictionaries\n",
    "|5|W|10|9/23|Statistical methods 1\n",
    "|6|M|11|9/28|Statistical methods 2\n",
    "|6|W|12|9/30|Statistical methods 3\n",
    "|7|M|13|10/5|Mid-term review\n",
    "|7|W|14|10/7|Regular expressions\n",
    "|8|M|15|10/12|NumPy 1|Project: Research plan due\n",
    "|8|W|16|10/14|NumPy 2\n",
    "|9|M|17|10/19|Matplotlib 1\n",
    "|9|W|18|10/21|Matplotlib 2\n",
    "|10|M|19|10/26|Seaborn\n",
    "|10|W|20|10/28|Data analysis 1\n",
    "|11|M|21|11/2|Data analysis 2\n",
    "|11|W|22|11/4|Data analysis 3\n",
    "|12|M|23|11/9|Pandas\n",
    "|12|W|24|11/11|Machine learning 1\n",
    "|13|M|25|11/16|Machine learning 2\n",
    "|13|W|26|11/18|Machine learning 3\n",
    "|14|M|27|11/23|Machine learning 4\n",
    "|14|W|28|11/25|Working on project\n",
    "|15|M|29|11/30|Working on project\n",
    "|16|M|-|12/7|Project: Report & code due"
   ]
  },
  {
   "cell_type": "code",
   "execution_count": null,
   "metadata": {},
   "outputs": [],
   "source": []
  }
 ],
 "metadata": {
  "kernelspec": {
   "display_name": "Python 3",
   "language": "python",
   "name": "python3"
  },
  "language_info": {
   "codemirror_mode": {
    "name": "ipython",
    "version": 3
   },
   "file_extension": ".py",
   "mimetype": "text/x-python",
   "name": "python",
   "nbconvert_exporter": "python",
   "pygments_lexer": "ipython3",
   "version": "3.6.8"
  }
 },
 "nbformat": 4,
 "nbformat_minor": 4
}
